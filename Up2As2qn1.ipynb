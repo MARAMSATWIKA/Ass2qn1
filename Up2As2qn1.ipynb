{
 "cells": [
  {
   "cell_type": "code",
   "execution_count": 18,
   "id": "f9bde24c",
   "metadata": {},
   "outputs": [
    {
     "name": "stdout",
     "output_type": "stream",
     "text": [
      "Sample List: [(2, 5), (1, 2), (4, 4), (2, 3), (2, 1)]\n",
      "Expected result: [(2, 1), (1, 2), (2, 3), (4, 4), (2, 5)]\n"
     ]
    }
   ],
   "source": [
    "sample_list=[(2,5),(1,2),(4,4),(2,3),(2,1)]\n",
    "print(\"Sample List:\",sample_list)\n",
    "sorts=[]\n",
    "Ascend_list=[]\n",
    "for i,j in sample_list:\n",
    "    sorts.append(j)\n",
    "sorts.sort()\n",
    "Ascend=[]\n",
    "for k in sorts:\n",
    "    for l in range(0,len(sample_list)):\n",
    "        if k==sample_list[l][1]:\n",
    "            Ascend.append(sample_list[l])\n",
    "            sample_list.pop(l)\n",
    "            break\n",
    "        else:\n",
    "            print(end=\"\")\n",
    "print(\"Expected result:\",Ascend) "
   ]
  },
  {
   "cell_type": "code",
   "execution_count": null,
   "id": "fd60d428",
   "metadata": {},
   "outputs": [],
   "source": []
  }
 ],
 "metadata": {
  "kernelspec": {
   "display_name": "Python 3 (ipykernel)",
   "language": "python",
   "name": "python3"
  },
  "language_info": {
   "codemirror_mode": {
    "name": "ipython",
    "version": 3
   },
   "file_extension": ".py",
   "mimetype": "text/x-python",
   "name": "python",
   "nbconvert_exporter": "python",
   "pygments_lexer": "ipython3",
   "version": "3.9.7"
  }
 },
 "nbformat": 4,
 "nbformat_minor": 5
}
